{
  "nbformat": 4,
  "nbformat_minor": 0,
  "metadata": {
    "colab": {
      "provenance": [],
      "gpuType": "T4",
      "authorship_tag": "ABX9TyMmN1a1eCfhG2PH+V5IzSAA",
      "include_colab_link": true
    },
    "kernelspec": {
      "name": "python3",
      "display_name": "Python 3"
    },
    "language_info": {
      "name": "python"
    },
    "accelerator": "GPU"
  },
  "cells": [
    {
      "cell_type": "markdown",
      "metadata": {
        "id": "view-in-github",
        "colab_type": "text"
      },
      "source": [
        "<a href=\"https://colab.research.google.com/github/Prateeklk/Deep-Leaning/blob/main/Chest_XRay.ipynb\" target=\"_parent\"><img src=\"https://colab.research.google.com/assets/colab-badge.svg\" alt=\"Open In Colab\"/></a>"
      ]
    },
    {
      "cell_type": "code",
      "execution_count": 1,
      "metadata": {
        "colab": {
          "base_uri": "https://localhost:8080/"
        },
        "id": "cjAGa2lMxp9H",
        "outputId": "a3ca6a36-700a-4fa4-a2d1-acb3e7f31f96"
      },
      "outputs": [
        {
          "output_type": "stream",
          "name": "stdout",
          "text": [
            "Mounted at /content/drive\n"
          ]
        }
      ],
      "source": [
        "from google.colab import drive\n",
        "drive.mount('/content/drive')"
      ]
    },
    {
      "cell_type": "code",
      "source": [
        "# importing the libraries\n",
        "import pandas as pd\n",
        "import numpy as np\n",
        "import os\n",
        "import matplotlib.pyplot as plt\n",
        "from keras.preprocessing.image import ImageDataGenerator\n",
        "from keras.utils import to_categorical"
      ],
      "metadata": {
        "id": "vdOT2tDex6Ru"
      },
      "execution_count": 2,
      "outputs": []
    },
    {
      "cell_type": "code",
      "source": [
        "train_dir = '/content/drive/MyDrive/health/chest_xray/train'\n",
        "test_dir = '/content/drive/MyDrive/health/chest_xray/test'"
      ],
      "metadata": {
        "id": "3i20ynWIyi-1"
      },
      "execution_count": 3,
      "outputs": []
    },
    {
      "cell_type": "code",
      "source": [
        "# Define parameters\n",
        "img_size = (150, 150)\n",
        "batch_size = 32"
      ],
      "metadata": {
        "id": "uFV5H2zm5D7U"
      },
      "execution_count": 4,
      "outputs": []
    },
    {
      "cell_type": "code",
      "source": [
        "# Data augmentation and preprocessing for training\n",
        "train_datagen = ImageDataGenerator(\n",
        "    rescale=1./255,\n",
        "    rotation_range=20,\n",
        "    width_shift_range=0.2,\n",
        "    height_shift_range=0.2,\n",
        "    shear_range=0.2,\n",
        "    zoom_range=0.2,\n",
        "    horizontal_flip=True,\n",
        "    fill_mode='nearest'\n",
        ")\n"
      ],
      "metadata": {
        "id": "rwePoT5SzjPE"
      },
      "execution_count": 5,
      "outputs": []
    },
    {
      "cell_type": "code",
      "source": [
        "# Data preprocessing for validation and test sets\n",
        "valid_test_datagen = ImageDataGenerator(rescale=1./255)"
      ],
      "metadata": {
        "id": "yE_TrVNz5Log"
      },
      "execution_count": 6,
      "outputs": []
    },
    {
      "cell_type": "code",
      "source": [
        "# Load the full training data to split into training and validation sets\n",
        "def load_full_data(directory):\n",
        "    data_generator = valid_test_datagen.flow_from_directory(\n",
        "        directory,\n",
        "        target_size=img_size,\n",
        "        batch_size=1,\n",
        "        class_mode='binary',\n",
        "        shuffle=True\n",
        "    )\n",
        "    data = []\n",
        "    labels = []\n",
        "    for i in range(len(data_generator.filenames)):\n",
        "        img, label = data_generator.next()\n",
        "        data.append(img[0])\n",
        "        labels.append(label[0])\n",
        "    return np.array(data), np.array(labels)\n",
        "\n",
        "full_train_data, full_train_labels = load_full_data(train_dir)\n"
      ],
      "metadata": {
        "colab": {
          "base_uri": "https://localhost:8080/"
        },
        "id": "43f1wa7j5QSo",
        "outputId": "447c78cc-72ff-4700-9230-45b0025d56e0"
      },
      "execution_count": 8,
      "outputs": [
        {
          "output_type": "stream",
          "name": "stdout",
          "text": [
            "Found 5232 images belonging to 2 classes.\n"
          ]
        }
      ]
    },
    {
      "cell_type": "code",
      "source": [
        "# Split the data into training and validation sets\n",
        "from sklearn.model_selection import train_test_split\n",
        "train_data, val_data, train_labels, val_labels = train_test_split(\n",
        "full_train_data, full_train_labels, test_size=0.2, random_state=42)\n"
      ],
      "metadata": {
        "id": "LGRKeL115T-W"
      },
      "execution_count": 9,
      "outputs": []
    },
    {
      "cell_type": "code",
      "source": [
        "len(train_data)"
      ],
      "metadata": {
        "colab": {
          "base_uri": "https://localhost:8080/"
        },
        "id": "8vhzvN3NPqGw",
        "outputId": "2fa3278b-3260-4d8e-cbd9-4dcc5e43a4c3"
      },
      "execution_count": 31,
      "outputs": [
        {
          "output_type": "execute_result",
          "data": {
            "text/plain": [
              "4185"
            ]
          },
          "metadata": {},
          "execution_count": 31
        }
      ]
    },
    {
      "cell_type": "code",
      "source": [
        "len(train_labels)"
      ],
      "metadata": {
        "colab": {
          "base_uri": "https://localhost:8080/"
        },
        "id": "NvHkPwvdP2Nq",
        "outputId": "caecdc95-e586-40c0-8b20-bc45ec8884f9"
      },
      "execution_count": 33,
      "outputs": [
        {
          "output_type": "execute_result",
          "data": {
            "text/plain": [
              "4185"
            ]
          },
          "metadata": {},
          "execution_count": 33
        }
      ]
    },
    {
      "cell_type": "code",
      "source": [
        "len(val_data)"
      ],
      "metadata": {
        "colab": {
          "base_uri": "https://localhost:8080/"
        },
        "id": "RKxJlq9CPvXU",
        "outputId": "6b1e845e-7cdf-4999-fbbe-b79e62d4b8f5"
      },
      "execution_count": 32,
      "outputs": [
        {
          "output_type": "execute_result",
          "data": {
            "text/plain": [
              "1047"
            ]
          },
          "metadata": {},
          "execution_count": 32
        }
      ]
    },
    {
      "cell_type": "code",
      "source": [
        "len(val_labels)"
      ],
      "metadata": {
        "colab": {
          "base_uri": "https://localhost:8080/"
        },
        "id": "6bbVWDPmP6ay",
        "outputId": "c989bb96-e6fe-4c12-d796-9024b83ca558"
      },
      "execution_count": 34,
      "outputs": [
        {
          "output_type": "execute_result",
          "data": {
            "text/plain": [
              "1047"
            ]
          },
          "metadata": {},
          "execution_count": 34
        }
      ]
    },
    {
      "cell_type": "code",
      "source": [
        "# Define generators for training and validation sets\n",
        "train_generator = train_datagen.flow(train_data, train_labels, batch_size=batch_size)\n",
        "validation_generator = valid_test_datagen.flow(val_data, val_labels, batch_size=batch_size)\n"
      ],
      "metadata": {
        "id": "8Kiz61t51Kt4"
      },
      "execution_count": 10,
      "outputs": []
    },
    {
      "cell_type": "code",
      "source": [
        "# Load test data\n",
        "test_generator = valid_test_datagen.flow_from_directory(\n",
        "    test_dir,\n",
        "    target_size=img_size,\n",
        "    batch_size=batch_size,\n",
        "    class_mode='binary',\n",
        "    shuffle=False\n",
        ")"
      ],
      "metadata": {
        "colab": {
          "base_uri": "https://localhost:8080/"
        },
        "id": "NUp2G1ov5J9p",
        "outputId": "1ffd0d0a-9fd7-48bb-af6d-ca1ada547974"
      },
      "execution_count": 11,
      "outputs": [
        {
          "output_type": "stream",
          "name": "stdout",
          "text": [
            "Found 624 images belonging to 2 classes.\n"
          ]
        }
      ]
    },
    {
      "cell_type": "code",
      "source": [
        "from keras.models import Sequential\n",
        "from keras.layers import Conv2D, MaxPooling2D, Flatten, Dense, Dropout\n",
        "from keras.callbacks import ModelCheckpoint, EarlyStopping,ReduceLROnPlateau\n",
        "\n",
        "# Define the model\n",
        "model = Sequential([\n",
        "    Conv2D(32, (3, 3), activation='relu', input_shape=(150, 150, 3)),\n",
        "    MaxPooling2D(2, 2),\n",
        "    Conv2D(64, (3, 3), activation='relu'),\n",
        "    MaxPooling2D(2, 2),\n",
        "    Conv2D(128, (3, 3), activation='relu'),\n",
        "    MaxPooling2D(2, 2),\n",
        "    Flatten(),\n",
        "    Dense(512, activation='relu'),\n",
        "    Dropout(0.1),\n",
        "    Dense(1, activation='sigmoid')\n",
        "])\n",
        "\n",
        "model.compile(loss='binary_crossentropy', optimizer='adam', metrics=['accuracy'])\n",
        "\n",
        "# Model checkpoints and early stopping\n",
        "checkpoint = ModelCheckpoint('best_model.h5', monitor='val_loss', save_best_only=True)\n",
        "early_stopping = EarlyStopping(monitor='val_loss', patience=10)\n",
        "#reduce_lr = ReduceLROnPlateau(monitor='val_loss', factor=0.2, patience=5, min_lr=0.001)\n",
        "\n"
      ],
      "metadata": {
        "id": "FwmbgQbszlxv"
      },
      "execution_count": 42,
      "outputs": []
    },
    {
      "cell_type": "code",
      "source": [
        "# Train the model\n",
        "history = model.fit(\n",
        "    train_generator,\n",
        "    # steps_per_epoch=len(train_data),# // batch_size,\n",
        "    steps_per_epoch= 100,\n",
        "    validation_data=validation_generator,\n",
        "    validation_steps=25,# // batch_size,\n",
        "    epochs=40,\n",
        "    callbacks=[checkpoint, early_stopping] #reduce_lr]\n",
        ")"
      ],
      "metadata": {
        "colab": {
          "base_uri": "https://localhost:8080/"
        },
        "id": "yn97qbFYM7yQ",
        "outputId": "b44eedb8-2c7d-4e39-9d64-ce2738a180c2"
      },
      "execution_count": 43,
      "outputs": [
        {
          "output_type": "stream",
          "name": "stdout",
          "text": [
            "Epoch 1/40\n",
            "100/100 [==============================] - 23s 202ms/step - loss: 0.5887 - accuracy: 0.7403 - val_loss: 0.5811 - val_accuracy: 0.7325\n",
            "Epoch 2/40\n",
            "100/100 [==============================] - 20s 199ms/step - loss: 0.5834 - accuracy: 0.7382 - val_loss: 0.6048 - val_accuracy: 0.7337\n",
            "Epoch 3/40\n",
            "100/100 [==============================] - 18s 183ms/step - loss: 0.5785 - accuracy: 0.7394 - val_loss: 0.5930 - val_accuracy: 0.7275\n",
            "Epoch 4/40\n",
            "100/100 [==============================] - 20s 203ms/step - loss: 0.5736 - accuracy: 0.7419 - val_loss: 0.5813 - val_accuracy: 0.7337\n",
            "Epoch 5/40\n",
            "100/100 [==============================] - 18s 184ms/step - loss: 0.5670 - accuracy: 0.7473 - val_loss: 0.5836 - val_accuracy: 0.7300\n",
            "Epoch 6/40\n",
            "100/100 [==============================] - 18s 181ms/step - loss: 0.5657 - accuracy: 0.7495 - val_loss: 0.5937 - val_accuracy: 0.7300\n",
            "Epoch 7/40\n",
            "100/100 [==============================] - 21s 206ms/step - loss: 0.5721 - accuracy: 0.7435 - val_loss: 0.5759 - val_accuracy: 0.7375\n",
            "Epoch 8/40\n",
            "100/100 [==============================] - 20s 201ms/step - loss: 0.5654 - accuracy: 0.7482 - val_loss: 0.5879 - val_accuracy: 0.7275\n",
            "Epoch 9/40\n",
            "100/100 [==============================] - 19s 189ms/step - loss: 0.5693 - accuracy: 0.7463 - val_loss: 0.5744 - val_accuracy: 0.7387\n",
            "Epoch 10/40\n",
            "100/100 [==============================] - 26s 260ms/step - loss: 0.5740 - accuracy: 0.7419 - val_loss: 0.5704 - val_accuracy: 0.7450\n",
            "Epoch 11/40\n",
            "100/100 [==============================] - 18s 183ms/step - loss: 0.5683 - accuracy: 0.7463 - val_loss: 0.5798 - val_accuracy: 0.7337\n",
            "Epoch 12/40\n",
            "100/100 [==============================] - 20s 195ms/step - loss: 0.5729 - accuracy: 0.7416 - val_loss: 0.5808 - val_accuracy: 0.7325\n",
            "Epoch 13/40\n",
            "100/100 [==============================] - 18s 183ms/step - loss: 0.5657 - accuracy: 0.7482 - val_loss: 0.5754 - val_accuracy: 0.7387\n",
            "Epoch 14/40\n",
            "100/100 [==============================] - 20s 204ms/step - loss: 0.5776 - accuracy: 0.7363 - val_loss: 0.5821 - val_accuracy: 0.7350\n",
            "Epoch 15/40\n",
            "100/100 [==============================] - 25s 248ms/step - loss: 0.5708 - accuracy: 0.7441 - val_loss: 0.5585 - val_accuracy: 0.7550\n",
            "Epoch 16/40\n",
            "100/100 [==============================] - 19s 191ms/step - loss: 0.5674 - accuracy: 0.7466 - val_loss: 0.5937 - val_accuracy: 0.7212\n",
            "Epoch 17/40\n",
            "100/100 [==============================] - 18s 185ms/step - loss: 0.5701 - accuracy: 0.7448 - val_loss: 0.5812 - val_accuracy: 0.7325\n",
            "Epoch 18/40\n",
            "100/100 [==============================] - 20s 201ms/step - loss: 0.5725 - accuracy: 0.7422 - val_loss: 0.5630 - val_accuracy: 0.7500\n",
            "Epoch 19/40\n",
            "100/100 [==============================] - 18s 183ms/step - loss: 0.5683 - accuracy: 0.7463 - val_loss: 0.5955 - val_accuracy: 0.7262\n",
            "Epoch 20/40\n",
            "100/100 [==============================] - 18s 184ms/step - loss: 0.5688 - accuracy: 0.7469 - val_loss: 0.5853 - val_accuracy: 0.7287\n",
            "Epoch 21/40\n",
            "100/100 [==============================] - 20s 204ms/step - loss: 0.5735 - accuracy: 0.7413 - val_loss: 0.5866 - val_accuracy: 0.7287\n",
            "Epoch 22/40\n",
            "100/100 [==============================] - 19s 190ms/step - loss: 0.5741 - accuracy: 0.7385 - val_loss: 0.5778 - val_accuracy: 0.7387\n",
            "Epoch 23/40\n",
            "100/100 [==============================] - 21s 214ms/step - loss: 0.5637 - accuracy: 0.7510 - val_loss: 0.5733 - val_accuracy: 0.7425\n",
            "Epoch 24/40\n",
            "100/100 [==============================] - 20s 200ms/step - loss: 0.5682 - accuracy: 0.7463 - val_loss: 0.5822 - val_accuracy: 0.7312\n",
            "Epoch 25/40\n",
            "100/100 [==============================] - 20s 200ms/step - loss: 0.5689 - accuracy: 0.7463 - val_loss: 0.5833 - val_accuracy: 0.7300\n"
          ]
        }
      ]
    },
    {
      "cell_type": "code",
      "source": [
        "# Load the best model\n",
        "from keras.models import load_model\n",
        "\n",
        "best_model = load_model('best_model.h5')\n",
        "\n",
        "# Evaluate the model on the test data\n",
        "loss, accuracy = best_model.evaluate(test_generator)\n",
        "print(f'Test Accuracy: {accuracy * 100:.2f}%')\n"
      ],
      "metadata": {
        "id": "j9VlyIk1TCGr",
        "colab": {
          "base_uri": "https://localhost:8080/"
        },
        "outputId": "78e32b3d-d5ad-4e05-a26a-c8f94d05c058"
      },
      "execution_count": 44,
      "outputs": [
        {
          "output_type": "stream",
          "name": "stdout",
          "text": [
            "20/20 [==============================] - 73s 4s/step - loss: 0.8747 - accuracy: 0.6250\n",
            "Test Accuracy: 62.50%\n"
          ]
        }
      ]
    }
  ]
}